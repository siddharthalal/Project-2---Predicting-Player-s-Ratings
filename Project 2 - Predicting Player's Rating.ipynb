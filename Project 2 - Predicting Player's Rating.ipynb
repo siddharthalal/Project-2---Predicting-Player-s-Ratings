{
 "cells": [
  {
   "cell_type": "markdown",
   "metadata": {},
   "source": [
    "# Predicting players rating\n",
    "\n",
    "In this project, we are going to predict the overall rating of soccer player based on their attributes\n",
    "such as 'crossing', 'finishing etc.\n",
    "\n",
    "The dataset that we are going to use is from European Soccer Database\n",
    "(https://www.kaggle.com/hugomathien/soccer)\n",
    "\n",
    "We will be building two different models using Linear and Random Forest regression techniques, and evalaute those models using to judge their accuracy and efficiency."
   ]
  },
  {
   "cell_type": "code",
   "execution_count": 1,
   "metadata": {
    "collapsed": true
   },
   "outputs": [],
   "source": [
    "import sqlite3\n",
    "import numpy as np\n",
    "import pandas as pd\n",
    "from sklearn.ensemble import RandomForestRegressor\n",
    "from sklearn.linear_model import LinearRegression\n",
    "from sklearn.model_selection import train_test_split\n",
    "from sklearn.model_selection import cross_val_score\n",
    "from sklearn.model_selection import GridSearchCV\n",
    "from sklearn import metrics\n",
    "from math import sqrt\n",
    "from matplotlib import pyplot as plt\n",
    "import seaborn as sns\n",
    "# allow plots to appear directly in the notebook\n",
    "%matplotlib inline"
   ]
  },
  {
   "cell_type": "markdown",
   "metadata": {},
   "source": [
    "Create the connection and load the data into a pd dataframe."
   ]
  },
  {
   "cell_type": "code",
   "execution_count": 2,
   "metadata": {},
   "outputs": [],
   "source": [
    "cnx = sqlite3.connect('players-database.sqlite')\n",
    "df = pd.read_sql_query(\"SELECT * FROM Player_Attributes\", cnx)"
   ]
  },
  {
   "cell_type": "code",
   "execution_count": 3,
   "metadata": {},
   "outputs": [
    {
     "data": {
      "text/html": [
       "<div>\n",
       "<style scoped>\n",
       "    .dataframe tbody tr th:only-of-type {\n",
       "        vertical-align: middle;\n",
       "    }\n",
       "\n",
       "    .dataframe tbody tr th {\n",
       "        vertical-align: top;\n",
       "    }\n",
       "\n",
       "    .dataframe thead th {\n",
       "        text-align: right;\n",
       "    }\n",
       "</style>\n",
       "<table border=\"1\" class=\"dataframe\">\n",
       "  <thead>\n",
       "    <tr style=\"text-align: right;\">\n",
       "      <th></th>\n",
       "      <th>id</th>\n",
       "      <th>player_fifa_api_id</th>\n",
       "      <th>player_api_id</th>\n",
       "      <th>date</th>\n",
       "      <th>overall_rating</th>\n",
       "      <th>potential</th>\n",
       "      <th>preferred_foot</th>\n",
       "      <th>attacking_work_rate</th>\n",
       "      <th>defensive_work_rate</th>\n",
       "      <th>crossing</th>\n",
       "      <th>...</th>\n",
       "      <th>vision</th>\n",
       "      <th>penalties</th>\n",
       "      <th>marking</th>\n",
       "      <th>standing_tackle</th>\n",
       "      <th>sliding_tackle</th>\n",
       "      <th>gk_diving</th>\n",
       "      <th>gk_handling</th>\n",
       "      <th>gk_kicking</th>\n",
       "      <th>gk_positioning</th>\n",
       "      <th>gk_reflexes</th>\n",
       "    </tr>\n",
       "  </thead>\n",
       "  <tbody>\n",
       "    <tr>\n",
       "      <th>0</th>\n",
       "      <td>1</td>\n",
       "      <td>218353</td>\n",
       "      <td>505942</td>\n",
       "      <td>2016-02-18 00:00:00</td>\n",
       "      <td>67.0</td>\n",
       "      <td>71.0</td>\n",
       "      <td>right</td>\n",
       "      <td>medium</td>\n",
       "      <td>medium</td>\n",
       "      <td>49.0</td>\n",
       "      <td>...</td>\n",
       "      <td>54.0</td>\n",
       "      <td>48.0</td>\n",
       "      <td>65.0</td>\n",
       "      <td>69.0</td>\n",
       "      <td>69.0</td>\n",
       "      <td>6.0</td>\n",
       "      <td>11.0</td>\n",
       "      <td>10.0</td>\n",
       "      <td>8.0</td>\n",
       "      <td>8.0</td>\n",
       "    </tr>\n",
       "    <tr>\n",
       "      <th>1</th>\n",
       "      <td>2</td>\n",
       "      <td>218353</td>\n",
       "      <td>505942</td>\n",
       "      <td>2015-11-19 00:00:00</td>\n",
       "      <td>67.0</td>\n",
       "      <td>71.0</td>\n",
       "      <td>right</td>\n",
       "      <td>medium</td>\n",
       "      <td>medium</td>\n",
       "      <td>49.0</td>\n",
       "      <td>...</td>\n",
       "      <td>54.0</td>\n",
       "      <td>48.0</td>\n",
       "      <td>65.0</td>\n",
       "      <td>69.0</td>\n",
       "      <td>69.0</td>\n",
       "      <td>6.0</td>\n",
       "      <td>11.0</td>\n",
       "      <td>10.0</td>\n",
       "      <td>8.0</td>\n",
       "      <td>8.0</td>\n",
       "    </tr>\n",
       "    <tr>\n",
       "      <th>2</th>\n",
       "      <td>3</td>\n",
       "      <td>218353</td>\n",
       "      <td>505942</td>\n",
       "      <td>2015-09-21 00:00:00</td>\n",
       "      <td>62.0</td>\n",
       "      <td>66.0</td>\n",
       "      <td>right</td>\n",
       "      <td>medium</td>\n",
       "      <td>medium</td>\n",
       "      <td>49.0</td>\n",
       "      <td>...</td>\n",
       "      <td>54.0</td>\n",
       "      <td>48.0</td>\n",
       "      <td>65.0</td>\n",
       "      <td>66.0</td>\n",
       "      <td>69.0</td>\n",
       "      <td>6.0</td>\n",
       "      <td>11.0</td>\n",
       "      <td>10.0</td>\n",
       "      <td>8.0</td>\n",
       "      <td>8.0</td>\n",
       "    </tr>\n",
       "    <tr>\n",
       "      <th>3</th>\n",
       "      <td>4</td>\n",
       "      <td>218353</td>\n",
       "      <td>505942</td>\n",
       "      <td>2015-03-20 00:00:00</td>\n",
       "      <td>61.0</td>\n",
       "      <td>65.0</td>\n",
       "      <td>right</td>\n",
       "      <td>medium</td>\n",
       "      <td>medium</td>\n",
       "      <td>48.0</td>\n",
       "      <td>...</td>\n",
       "      <td>53.0</td>\n",
       "      <td>47.0</td>\n",
       "      <td>62.0</td>\n",
       "      <td>63.0</td>\n",
       "      <td>66.0</td>\n",
       "      <td>5.0</td>\n",
       "      <td>10.0</td>\n",
       "      <td>9.0</td>\n",
       "      <td>7.0</td>\n",
       "      <td>7.0</td>\n",
       "    </tr>\n",
       "    <tr>\n",
       "      <th>4</th>\n",
       "      <td>5</td>\n",
       "      <td>218353</td>\n",
       "      <td>505942</td>\n",
       "      <td>2007-02-22 00:00:00</td>\n",
       "      <td>61.0</td>\n",
       "      <td>65.0</td>\n",
       "      <td>right</td>\n",
       "      <td>medium</td>\n",
       "      <td>medium</td>\n",
       "      <td>48.0</td>\n",
       "      <td>...</td>\n",
       "      <td>53.0</td>\n",
       "      <td>47.0</td>\n",
       "      <td>62.0</td>\n",
       "      <td>63.0</td>\n",
       "      <td>66.0</td>\n",
       "      <td>5.0</td>\n",
       "      <td>10.0</td>\n",
       "      <td>9.0</td>\n",
       "      <td>7.0</td>\n",
       "      <td>7.0</td>\n",
       "    </tr>\n",
       "  </tbody>\n",
       "</table>\n",
       "<p>5 rows × 42 columns</p>\n",
       "</div>"
      ],
      "text/plain": [
       "   id  player_fifa_api_id  player_api_id                 date  overall_rating  \\\n",
       "0   1              218353         505942  2016-02-18 00:00:00            67.0   \n",
       "1   2              218353         505942  2015-11-19 00:00:00            67.0   \n",
       "2   3              218353         505942  2015-09-21 00:00:00            62.0   \n",
       "3   4              218353         505942  2015-03-20 00:00:00            61.0   \n",
       "4   5              218353         505942  2007-02-22 00:00:00            61.0   \n",
       "\n",
       "   potential preferred_foot attacking_work_rate defensive_work_rate  crossing  \\\n",
       "0       71.0          right              medium              medium      49.0   \n",
       "1       71.0          right              medium              medium      49.0   \n",
       "2       66.0          right              medium              medium      49.0   \n",
       "3       65.0          right              medium              medium      48.0   \n",
       "4       65.0          right              medium              medium      48.0   \n",
       "\n",
       "      ...       vision  penalties  marking  standing_tackle  sliding_tackle  \\\n",
       "0     ...         54.0       48.0     65.0             69.0            69.0   \n",
       "1     ...         54.0       48.0     65.0             69.0            69.0   \n",
       "2     ...         54.0       48.0     65.0             66.0            69.0   \n",
       "3     ...         53.0       47.0     62.0             63.0            66.0   \n",
       "4     ...         53.0       47.0     62.0             63.0            66.0   \n",
       "\n",
       "   gk_diving  gk_handling  gk_kicking  gk_positioning  gk_reflexes  \n",
       "0        6.0         11.0        10.0             8.0          8.0  \n",
       "1        6.0         11.0        10.0             8.0          8.0  \n",
       "2        6.0         11.0        10.0             8.0          8.0  \n",
       "3        5.0         10.0         9.0             7.0          7.0  \n",
       "4        5.0         10.0         9.0             7.0          7.0  \n",
       "\n",
       "[5 rows x 42 columns]"
      ]
     },
     "execution_count": 3,
     "metadata": {},
     "output_type": "execute_result"
    }
   ],
   "source": [
    "df.head()"
   ]
  },
  {
   "cell_type": "code",
   "execution_count": 46,
   "metadata": {},
   "outputs": [
    {
     "data": {
      "text/html": [
       "<div>\n",
       "<style scoped>\n",
       "    .dataframe tbody tr th:only-of-type {\n",
       "        vertical-align: middle;\n",
       "    }\n",
       "\n",
       "    .dataframe tbody tr th {\n",
       "        vertical-align: top;\n",
       "    }\n",
       "\n",
       "    .dataframe thead th {\n",
       "        text-align: right;\n",
       "    }\n",
       "</style>\n",
       "<table border=\"1\" class=\"dataframe\">\n",
       "  <thead>\n",
       "    <tr style=\"text-align: right;\">\n",
       "      <th></th>\n",
       "      <th>overall_rating</th>\n",
       "      <th>potential</th>\n",
       "      <th>crossing</th>\n",
       "      <th>finishing</th>\n",
       "      <th>heading_accuracy</th>\n",
       "      <th>short_passing</th>\n",
       "      <th>volleys</th>\n",
       "      <th>dribbling</th>\n",
       "      <th>curve</th>\n",
       "      <th>free_kick_accuracy</th>\n",
       "      <th>...</th>\n",
       "      <th>vision</th>\n",
       "      <th>penalties</th>\n",
       "      <th>marking</th>\n",
       "      <th>standing_tackle</th>\n",
       "      <th>sliding_tackle</th>\n",
       "      <th>gk_diving</th>\n",
       "      <th>gk_handling</th>\n",
       "      <th>gk_kicking</th>\n",
       "      <th>gk_positioning</th>\n",
       "      <th>gk_reflexes</th>\n",
       "    </tr>\n",
       "  </thead>\n",
       "  <tbody>\n",
       "    <tr>\n",
       "      <th>count</th>\n",
       "      <td>176810.000000</td>\n",
       "      <td>176810.000000</td>\n",
       "      <td>176810.000000</td>\n",
       "      <td>176810.000000</td>\n",
       "      <td>176810.000000</td>\n",
       "      <td>176810.000000</td>\n",
       "      <td>176810.000000</td>\n",
       "      <td>176810.000000</td>\n",
       "      <td>176810.000000</td>\n",
       "      <td>176810.000000</td>\n",
       "      <td>...</td>\n",
       "      <td>176810.000000</td>\n",
       "      <td>176810.000000</td>\n",
       "      <td>176810.000000</td>\n",
       "      <td>176810.000000</td>\n",
       "      <td>176810.000000</td>\n",
       "      <td>176810.000000</td>\n",
       "      <td>176810.000000</td>\n",
       "      <td>176810.000000</td>\n",
       "      <td>176810.000000</td>\n",
       "      <td>176810.000000</td>\n",
       "    </tr>\n",
       "    <tr>\n",
       "      <th>mean</th>\n",
       "      <td>68.676953</td>\n",
       "      <td>73.509507</td>\n",
       "      <td>55.212765</td>\n",
       "      <td>50.046700</td>\n",
       "      <td>57.263990</td>\n",
       "      <td>62.539477</td>\n",
       "      <td>49.575072</td>\n",
       "      <td>59.364533</td>\n",
       "      <td>53.095667</td>\n",
       "      <td>49.430479</td>\n",
       "      <td>...</td>\n",
       "      <td>57.891353</td>\n",
       "      <td>54.946875</td>\n",
       "      <td>46.726746</td>\n",
       "      <td>50.338635</td>\n",
       "      <td>48.022228</td>\n",
       "      <td>14.702223</td>\n",
       "      <td>15.890153</td>\n",
       "      <td>20.288688</td>\n",
       "      <td>15.960732</td>\n",
       "      <td>16.271845</td>\n",
       "    </tr>\n",
       "    <tr>\n",
       "      <th>std</th>\n",
       "      <td>7.031121</td>\n",
       "      <td>6.584915</td>\n",
       "      <td>17.251871</td>\n",
       "      <td>19.028715</td>\n",
       "      <td>16.484608</td>\n",
       "      <td>14.175661</td>\n",
       "      <td>18.255857</td>\n",
       "      <td>17.737113</td>\n",
       "      <td>18.255974</td>\n",
       "      <td>17.821167</td>\n",
       "      <td>...</td>\n",
       "      <td>15.155479</td>\n",
       "      <td>15.549558</td>\n",
       "      <td>21.235230</td>\n",
       "      <td>21.512153</td>\n",
       "      <td>21.610660</td>\n",
       "      <td>16.839847</td>\n",
       "      <td>15.839940</td>\n",
       "      <td>20.978388</td>\n",
       "      <td>16.067850</td>\n",
       "      <td>17.192270</td>\n",
       "    </tr>\n",
       "    <tr>\n",
       "      <th>min</th>\n",
       "      <td>33.000000</td>\n",
       "      <td>39.000000</td>\n",
       "      <td>1.000000</td>\n",
       "      <td>1.000000</td>\n",
       "      <td>1.000000</td>\n",
       "      <td>3.000000</td>\n",
       "      <td>1.000000</td>\n",
       "      <td>1.000000</td>\n",
       "      <td>2.000000</td>\n",
       "      <td>1.000000</td>\n",
       "      <td>...</td>\n",
       "      <td>1.000000</td>\n",
       "      <td>2.000000</td>\n",
       "      <td>1.000000</td>\n",
       "      <td>1.000000</td>\n",
       "      <td>2.000000</td>\n",
       "      <td>1.000000</td>\n",
       "      <td>1.000000</td>\n",
       "      <td>1.000000</td>\n",
       "      <td>1.000000</td>\n",
       "      <td>1.000000</td>\n",
       "    </tr>\n",
       "    <tr>\n",
       "      <th>25%</th>\n",
       "      <td>64.000000</td>\n",
       "      <td>69.000000</td>\n",
       "      <td>45.000000</td>\n",
       "      <td>34.000000</td>\n",
       "      <td>49.000000</td>\n",
       "      <td>57.000000</td>\n",
       "      <td>36.000000</td>\n",
       "      <td>52.000000</td>\n",
       "      <td>41.000000</td>\n",
       "      <td>36.000000</td>\n",
       "      <td>...</td>\n",
       "      <td>49.000000</td>\n",
       "      <td>45.000000</td>\n",
       "      <td>25.000000</td>\n",
       "      <td>29.000000</td>\n",
       "      <td>25.000000</td>\n",
       "      <td>7.000000</td>\n",
       "      <td>8.000000</td>\n",
       "      <td>8.000000</td>\n",
       "      <td>8.000000</td>\n",
       "      <td>8.000000</td>\n",
       "    </tr>\n",
       "    <tr>\n",
       "      <th>50%</th>\n",
       "      <td>69.000000</td>\n",
       "      <td>74.000000</td>\n",
       "      <td>59.000000</td>\n",
       "      <td>53.000000</td>\n",
       "      <td>60.000000</td>\n",
       "      <td>65.000000</td>\n",
       "      <td>52.000000</td>\n",
       "      <td>64.000000</td>\n",
       "      <td>56.000000</td>\n",
       "      <td>50.000000</td>\n",
       "      <td>...</td>\n",
       "      <td>60.000000</td>\n",
       "      <td>57.000000</td>\n",
       "      <td>50.000000</td>\n",
       "      <td>56.000000</td>\n",
       "      <td>53.000000</td>\n",
       "      <td>10.000000</td>\n",
       "      <td>11.000000</td>\n",
       "      <td>12.000000</td>\n",
       "      <td>11.000000</td>\n",
       "      <td>11.000000</td>\n",
       "    </tr>\n",
       "    <tr>\n",
       "      <th>75%</th>\n",
       "      <td>73.000000</td>\n",
       "      <td>78.000000</td>\n",
       "      <td>68.000000</td>\n",
       "      <td>65.000000</td>\n",
       "      <td>68.000000</td>\n",
       "      <td>72.000000</td>\n",
       "      <td>64.000000</td>\n",
       "      <td>72.000000</td>\n",
       "      <td>67.000000</td>\n",
       "      <td>64.000000</td>\n",
       "      <td>...</td>\n",
       "      <td>69.000000</td>\n",
       "      <td>67.000000</td>\n",
       "      <td>66.000000</td>\n",
       "      <td>69.000000</td>\n",
       "      <td>67.000000</td>\n",
       "      <td>13.000000</td>\n",
       "      <td>15.000000</td>\n",
       "      <td>15.000000</td>\n",
       "      <td>15.000000</td>\n",
       "      <td>15.000000</td>\n",
       "    </tr>\n",
       "    <tr>\n",
       "      <th>max</th>\n",
       "      <td>94.000000</td>\n",
       "      <td>97.000000</td>\n",
       "      <td>95.000000</td>\n",
       "      <td>97.000000</td>\n",
       "      <td>98.000000</td>\n",
       "      <td>97.000000</td>\n",
       "      <td>93.000000</td>\n",
       "      <td>97.000000</td>\n",
       "      <td>94.000000</td>\n",
       "      <td>97.000000</td>\n",
       "      <td>...</td>\n",
       "      <td>97.000000</td>\n",
       "      <td>96.000000</td>\n",
       "      <td>94.000000</td>\n",
       "      <td>95.000000</td>\n",
       "      <td>95.000000</td>\n",
       "      <td>94.000000</td>\n",
       "      <td>93.000000</td>\n",
       "      <td>97.000000</td>\n",
       "      <td>96.000000</td>\n",
       "      <td>96.000000</td>\n",
       "    </tr>\n",
       "  </tbody>\n",
       "</table>\n",
       "<p>8 rows × 35 columns</p>\n",
       "</div>"
      ],
      "text/plain": [
       "       overall_rating      potential       crossing      finishing  \\\n",
       "count   176810.000000  176810.000000  176810.000000  176810.000000   \n",
       "mean        68.676953      73.509507      55.212765      50.046700   \n",
       "std          7.031121       6.584915      17.251871      19.028715   \n",
       "min         33.000000      39.000000       1.000000       1.000000   \n",
       "25%         64.000000      69.000000      45.000000      34.000000   \n",
       "50%         69.000000      74.000000      59.000000      53.000000   \n",
       "75%         73.000000      78.000000      68.000000      65.000000   \n",
       "max         94.000000      97.000000      95.000000      97.000000   \n",
       "\n",
       "       heading_accuracy  short_passing        volleys      dribbling  \\\n",
       "count     176810.000000  176810.000000  176810.000000  176810.000000   \n",
       "mean          57.263990      62.539477      49.575072      59.364533   \n",
       "std           16.484608      14.175661      18.255857      17.737113   \n",
       "min            1.000000       3.000000       1.000000       1.000000   \n",
       "25%           49.000000      57.000000      36.000000      52.000000   \n",
       "50%           60.000000      65.000000      52.000000      64.000000   \n",
       "75%           68.000000      72.000000      64.000000      72.000000   \n",
       "max           98.000000      97.000000      93.000000      97.000000   \n",
       "\n",
       "               curve  free_kick_accuracy      ...               vision  \\\n",
       "count  176810.000000       176810.000000      ...        176810.000000   \n",
       "mean       53.095667           49.430479      ...            57.891353   \n",
       "std        18.255974           17.821167      ...            15.155479   \n",
       "min         2.000000            1.000000      ...             1.000000   \n",
       "25%        41.000000           36.000000      ...            49.000000   \n",
       "50%        56.000000           50.000000      ...            60.000000   \n",
       "75%        67.000000           64.000000      ...            69.000000   \n",
       "max        94.000000           97.000000      ...            97.000000   \n",
       "\n",
       "           penalties        marking  standing_tackle  sliding_tackle  \\\n",
       "count  176810.000000  176810.000000    176810.000000   176810.000000   \n",
       "mean       54.946875      46.726746        50.338635       48.022228   \n",
       "std        15.549558      21.235230        21.512153       21.610660   \n",
       "min         2.000000       1.000000         1.000000        2.000000   \n",
       "25%        45.000000      25.000000        29.000000       25.000000   \n",
       "50%        57.000000      50.000000        56.000000       53.000000   \n",
       "75%        67.000000      66.000000        69.000000       67.000000   \n",
       "max        96.000000      94.000000        95.000000       95.000000   \n",
       "\n",
       "           gk_diving    gk_handling     gk_kicking  gk_positioning  \\\n",
       "count  176810.000000  176810.000000  176810.000000   176810.000000   \n",
       "mean       14.702223      15.890153      20.288688       15.960732   \n",
       "std        16.839847      15.839940      20.978388       16.067850   \n",
       "min         1.000000       1.000000       1.000000        1.000000   \n",
       "25%         7.000000       8.000000       8.000000        8.000000   \n",
       "50%        10.000000      11.000000      12.000000       11.000000   \n",
       "75%        13.000000      15.000000      15.000000       15.000000   \n",
       "max        94.000000      93.000000      97.000000       96.000000   \n",
       "\n",
       "         gk_reflexes  \n",
       "count  176810.000000  \n",
       "mean       16.271845  \n",
       "std        17.192270  \n",
       "min         1.000000  \n",
       "25%         8.000000  \n",
       "50%        11.000000  \n",
       "75%        15.000000  \n",
       "max        96.000000  \n",
       "\n",
       "[8 rows x 35 columns]"
      ]
     },
     "execution_count": 46,
     "metadata": {},
     "output_type": "execute_result"
    }
   ],
   "source": [
    "df.describe()"
   ]
  },
  {
   "cell_type": "code",
   "execution_count": 4,
   "metadata": {},
   "outputs": [
    {
     "data": {
      "text/plain": [
       "(183978, 42)"
      ]
     },
     "execution_count": 4,
     "metadata": {},
     "output_type": "execute_result"
    }
   ],
   "source": [
    "df.shape"
   ]
  },
  {
   "cell_type": "markdown",
   "metadata": {},
   "source": [
    "# Data Clean-up"
   ]
  },
  {
   "cell_type": "code",
   "execution_count": 5,
   "metadata": {},
   "outputs": [
    {
     "data": {
      "text/plain": [
       "id                     False\n",
       "player_fifa_api_id     False\n",
       "player_api_id          False\n",
       "date                   False\n",
       "overall_rating          True\n",
       "potential               True\n",
       "preferred_foot          True\n",
       "attacking_work_rate     True\n",
       "defensive_work_rate     True\n",
       "crossing                True\n",
       "finishing               True\n",
       "heading_accuracy        True\n",
       "short_passing           True\n",
       "volleys                 True\n",
       "dribbling               True\n",
       "curve                   True\n",
       "free_kick_accuracy      True\n",
       "long_passing            True\n",
       "ball_control            True\n",
       "acceleration            True\n",
       "sprint_speed            True\n",
       "agility                 True\n",
       "reactions               True\n",
       "balance                 True\n",
       "shot_power              True\n",
       "jumping                 True\n",
       "stamina                 True\n",
       "strength                True\n",
       "long_shots              True\n",
       "aggression              True\n",
       "interceptions           True\n",
       "positioning             True\n",
       "vision                  True\n",
       "penalties               True\n",
       "marking                 True\n",
       "standing_tackle         True\n",
       "sliding_tackle          True\n",
       "gk_diving               True\n",
       "gk_handling             True\n",
       "gk_kicking              True\n",
       "gk_positioning          True\n",
       "gk_reflexes             True\n",
       "dtype: bool"
      ]
     },
     "execution_count": 5,
     "metadata": {},
     "output_type": "execute_result"
    }
   ],
   "source": [
    "df.isnull().any()"
   ]
  },
  {
   "cell_type": "markdown",
   "metadata": {},
   "source": [
    "836 records which have \"overall_rating\" as null have null values in all the columns. We can safely drop them."
   ]
  },
  {
   "cell_type": "code",
   "execution_count": 6,
   "metadata": {},
   "outputs": [],
   "source": [
    "df = df[~df.overall_rating.isnull()]"
   ]
  },
  {
   "cell_type": "code",
   "execution_count": 7,
   "metadata": {},
   "outputs": [
    {
     "data": {
      "text/plain": [
       "id                     False\n",
       "player_fifa_api_id     False\n",
       "player_api_id          False\n",
       "date                   False\n",
       "overall_rating         False\n",
       "potential              False\n",
       "preferred_foot         False\n",
       "attacking_work_rate     True\n",
       "defensive_work_rate    False\n",
       "crossing               False\n",
       "finishing              False\n",
       "heading_accuracy       False\n",
       "short_passing          False\n",
       "volleys                 True\n",
       "dribbling              False\n",
       "curve                   True\n",
       "free_kick_accuracy     False\n",
       "long_passing           False\n",
       "ball_control           False\n",
       "acceleration           False\n",
       "sprint_speed           False\n",
       "agility                 True\n",
       "reactions              False\n",
       "balance                 True\n",
       "shot_power             False\n",
       "jumping                 True\n",
       "stamina                False\n",
       "strength               False\n",
       "long_shots             False\n",
       "aggression             False\n",
       "interceptions          False\n",
       "positioning            False\n",
       "vision                  True\n",
       "penalties              False\n",
       "marking                False\n",
       "standing_tackle        False\n",
       "sliding_tackle          True\n",
       "gk_diving              False\n",
       "gk_handling            False\n",
       "gk_kicking             False\n",
       "gk_positioning         False\n",
       "gk_reflexes            False\n",
       "dtype: bool"
      ]
     },
     "execution_count": 7,
     "metadata": {},
     "output_type": "execute_result"
    }
   ],
   "source": [
    "#check again for null values \n",
    "\n",
    "df.isnull().any()"
   ]
  },
  {
   "cell_type": "code",
   "execution_count": 8,
   "metadata": {},
   "outputs": [],
   "source": [
    "# replace NANs with series means\n",
    "\n",
    "df[\"volleys\"].fillna(df[\"volleys\"].mean(),inplace=True)\n",
    "df[\"curve\"].fillna(df[\"curve\"].mean(),inplace=True)\n",
    "df[\"agility\"].fillna(df[\"agility\"].mean(),inplace=True)\n",
    "df[\"balance\"].fillna(df[\"balance\"].mean(),inplace=True)\n",
    "df[\"jumping\"].fillna(df[\"jumping\"].mean(),inplace=True)\n",
    "df[\"vision\"].fillna(df[\"vision\"].mean(),inplace=True)\n",
    "df[\"sliding_tackle\"].fillna(df[\"sliding_tackle\"].mean(),inplace=True)"
   ]
  },
  {
   "cell_type": "markdown",
   "metadata": {},
   "source": [
    "Clean up values in defensive_work_rate and attacking_work_rate columns "
   ]
  },
  {
   "cell_type": "code",
   "execution_count": 9,
   "metadata": {},
   "outputs": [
    {
     "data": {
      "text/plain": [
       "medium    130846\n",
       "high       27041\n",
       "low        18432\n",
       "_0          2394\n",
       "o           1550\n",
       "1            441\n",
       "ormal        348\n",
       "2            342\n",
       "3            258\n",
       "5            234\n",
       "7            217\n",
       "0            197\n",
       "6            197\n",
       "9            152\n",
       "4            116\n",
       "es           106\n",
       "ean          104\n",
       "tocky         89\n",
       "8             78\n",
       "Name: defensive_work_rate, dtype: int64"
      ]
     },
     "execution_count": 9,
     "metadata": {},
     "output_type": "execute_result"
    }
   ],
   "source": [
    "df.defensive_work_rate.value_counts()"
   ]
  },
  {
   "cell_type": "markdown",
   "metadata": {},
   "source": [
    "Converting defensive_work_rate is tricky. The acceptable values are high, medium and low, but the column has lot of other values which don't make sense. And since we don't have the metadata available for the column, the safest choice would be to drop all the rows having non-sensical values. But before we do that, lets try to make sense of the given data.\n",
    "\n",
    "Few rows have numerical values ranging from 0-9. For them, we can assume that 0-3 means \"low\", 4-6 means \"medium\", 7-9 means high. Three other values \"o\", \"_0\" and \"ormal\" can be interpreted as \"0\", \"0\" and \"normal\" which can in turn be interpreted as \"low\", \"low\" and \"medium\". Rest of the rows can be dropped."
   ]
  },
  {
   "cell_type": "code",
   "execution_count": 10,
   "metadata": {},
   "outputs": [],
   "source": [
    "df['defensive_work_rate'] = df['defensive_work_rate'].str.replace('_0','0')\n",
    "df['defensive_work_rate'] = df['defensive_work_rate'].str.replace('ormal','5')\n",
    "df['defensive_work_rate'] = df['defensive_work_rate'].str.replace('o','0')\n",
    "df['defensive_work_rate'] = df['defensive_work_rate'].str.replace('l0w','low')\n",
    "\n",
    "df['defensive_work_rate'] = df['defensive_work_rate'].str.replace('0','low')\n",
    "df['defensive_work_rate'] = df['defensive_work_rate'].str.replace('1','low')\n",
    "df['defensive_work_rate'] = df['defensive_work_rate'].str.replace('2','low')\n",
    "df['defensive_work_rate'] = df['defensive_work_rate'].str.replace('3','low')\n",
    "df['defensive_work_rate'] = df['defensive_work_rate'].str.replace('4','medium')\n",
    "df['defensive_work_rate'] = df['defensive_work_rate'].str.replace('5','medium')\n",
    "df['defensive_work_rate'] = df['defensive_work_rate'].str.replace('6','medium')\n",
    "df['defensive_work_rate'] = df['defensive_work_rate'].str.replace('7','high')\n",
    "df['defensive_work_rate'] = df['defensive_work_rate'].str.replace('8','high')\n",
    "df['defensive_work_rate'] = df['defensive_work_rate'].str.replace('9','high')"
   ]
  },
  {
   "cell_type": "markdown",
   "metadata": {},
   "source": [
    "Choose only the rows having work rate as low, medium and high"
   ]
  },
  {
   "cell_type": "code",
   "execution_count": 11,
   "metadata": {},
   "outputs": [],
   "source": [
    "df = df[(df.defensive_work_rate == 'medium') | (df.defensive_work_rate == 'high') | (df.defensive_work_rate == 'low')]"
   ]
  },
  {
   "cell_type": "code",
   "execution_count": 12,
   "metadata": {},
   "outputs": [
    {
     "data": {
      "text/plain": [
       "medium    131741\n",
       "high       27488\n",
       "low        23614\n",
       "Name: defensive_work_rate, dtype: int64"
      ]
     },
     "execution_count": 12,
     "metadata": {},
     "output_type": "execute_result"
    }
   ],
   "source": [
    "df.defensive_work_rate.value_counts()"
   ]
  },
  {
   "cell_type": "markdown",
   "metadata": {},
   "source": [
    "# attacking_work_rate"
   ]
  },
  {
   "cell_type": "code",
   "execution_count": 13,
   "metadata": {},
   "outputs": [
    {
     "data": {
      "text/plain": [
       "medium    125070\n",
       "high       42823\n",
       "low         8569\n",
       "None        3639\n",
       "norm         348\n",
       "Name: attacking_work_rate, dtype: int64"
      ]
     },
     "execution_count": 13,
     "metadata": {},
     "output_type": "execute_result"
    }
   ],
   "source": [
    "df.attacking_work_rate.value_counts()"
   ]
  },
  {
   "cell_type": "markdown",
   "metadata": {},
   "source": [
    "Converting attacking_work_rate is again tricky. The acceptable values are high, medium and low, but the column has other values which don't make much sense. And since we don't have the metadata available for this column, the safest choice would be to drop all the rows having values other than low, high and medium."
   ]
  },
  {
   "cell_type": "code",
   "execution_count": 14,
   "metadata": {},
   "outputs": [],
   "source": [
    "# Change \"norm\" to \"medium\" and drop the rest having \"None\" and \"Null\" values.\n",
    "\n",
    "df['attacking_work_rate'] = df['attacking_work_rate'].str.replace('norm','medium')\n",
    "df = df[(df.attacking_work_rate == 'medium') | (df.attacking_work_rate == 'high') | (df.attacking_work_rate == 'low')]"
   ]
  },
  {
   "cell_type": "markdown",
   "metadata": {},
   "source": [
    "Drop the columns that we wont be using"
   ]
  },
  {
   "cell_type": "code",
   "execution_count": null,
   "metadata": {},
   "outputs": [],
   "source": [
    "df.drop(['id', 'player_fifa_api_id', 'player_api_id', 'date'], axis=1, inplace=True)"
   ]
  },
  {
   "cell_type": "markdown",
   "metadata": {},
   "source": [
    "Dummify the catergorical columns and normalize the numeric columns"
   ]
  },
  {
   "cell_type": "code",
   "execution_count": 17,
   "metadata": {},
   "outputs": [],
   "source": [
    "df_category = df[['attacking_work_rate','defensive_work_rate', 'preferred_foot']]\n",
    " \n",
    "df_numeric = df[np.setdiff1d(df.columns.tolist(), df_category.columns.tolist())]"
   ]
  },
  {
   "cell_type": "code",
   "execution_count": 18,
   "metadata": {},
   "outputs": [],
   "source": [
    "df_category_dummified = pd.get_dummies(df_category, columns=['attacking_work_rate','defensive_work_rate', 'preferred_foot'])"
   ]
  },
  {
   "cell_type": "code",
   "execution_count": 19,
   "metadata": {},
   "outputs": [
    {
     "name": "stderr",
     "output_type": "stream",
     "text": [
      "C:\\Anaconda3\\lib\\site-packages\\pandas\\core\\frame.py:3140: SettingWithCopyWarning: \n",
      "A value is trying to be set on a copy of a slice from a DataFrame.\n",
      "Try using .loc[row_indexer,col_indexer] = value instead\n",
      "\n",
      "See the caveats in the documentation: http://pandas.pydata.org/pandas-docs/stable/indexing.html#indexing-view-versus-copy\n",
      "  self[k1] = value[k2]\n"
     ]
    }
   ],
   "source": [
    "cols_to_norm = df_numeric.columns.tolist()\n",
    "\n",
    "df_numeric[cols_to_norm] = df_numeric[cols_to_norm].apply(lambda x: (x - x.min()) / (x.max() - x.min()))"
   ]
  },
  {
   "cell_type": "code",
   "execution_count": 20,
   "metadata": {},
   "outputs": [],
   "source": [
    "df_modified = pd.concat([df_category_dummified, df_numeric], axis=1) "
   ]
  },
  {
   "cell_type": "code",
   "execution_count": 21,
   "metadata": {},
   "outputs": [
    {
     "data": {
      "text/plain": [
       "Index(['attacking_work_rate_high', 'attacking_work_rate_low',\n",
       "       'attacking_work_rate_medium', 'defensive_work_rate_high',\n",
       "       'defensive_work_rate_low', 'defensive_work_rate_medium',\n",
       "       'preferred_foot_left', 'preferred_foot_right', 'acceleration',\n",
       "       'aggression', 'agility', 'balance', 'ball_control', 'crossing', 'curve',\n",
       "       'dribbling', 'finishing', 'free_kick_accuracy', 'gk_diving',\n",
       "       'gk_handling', 'gk_kicking', 'gk_positioning', 'gk_reflexes',\n",
       "       'heading_accuracy', 'interceptions', 'jumping', 'long_passing',\n",
       "       'long_shots', 'marking', 'overall_rating', 'penalties', 'positioning',\n",
       "       'potential', 'reactions', 'short_passing', 'shot_power',\n",
       "       'sliding_tackle', 'sprint_speed', 'stamina', 'standing_tackle',\n",
       "       'strength', 'vision', 'volleys'],\n",
       "      dtype='object')"
      ]
     },
     "execution_count": 21,
     "metadata": {},
     "output_type": "execute_result"
    }
   ],
   "source": [
    "df_modified.columns"
   ]
  },
  {
   "cell_type": "markdown",
   "metadata": {},
   "source": [
    "The columns that we will be making predictions with."
   ]
  },
  {
   "cell_type": "code",
   "execution_count": 23,
   "metadata": {},
   "outputs": [],
   "source": [
    "X = df_modified[['potential', 'preferred_foot_left', 'preferred_foot_right', 'crossing', 'finishing',\n",
    "       'heading_accuracy', 'short_passing', 'volleys', 'dribbling', 'curve',\n",
    "       'free_kick_accuracy', 'long_passing', 'ball_control', 'acceleration',\n",
    "       'sprint_speed', 'agility', 'reactions', 'balance', 'shot_power',\n",
    "       'jumping', 'stamina', 'strength', 'long_shots', 'aggression',\n",
    "       'interceptions', 'positioning', 'vision', 'penalties', 'marking',\n",
    "       'standing_tackle', 'sliding_tackle',\n",
    "       'attacking_work_rate_high', 'attacking_work_rate_low',\n",
    "       'attacking_work_rate_medium', 'defensive_work_rate_high',\n",
    "       'defensive_work_rate_low', 'defensive_work_rate_medium']]"
   ]
  },
  {
   "cell_type": "markdown",
   "metadata": {},
   "source": [
    "The column that we want to predict."
   ]
  },
  {
   "cell_type": "code",
   "execution_count": 24,
   "metadata": {},
   "outputs": [],
   "source": [
    "y = df_modified[\"overall_rating\"]"
   ]
  },
  {
   "cell_type": "markdown",
   "metadata": {},
   "source": [
    "# Linear regression"
   ]
  },
  {
   "cell_type": "markdown",
   "metadata": {},
   "source": [
    "Evaluate the model by splitting into train and test sets."
   ]
  },
  {
   "cell_type": "code",
   "execution_count": 37,
   "metadata": {},
   "outputs": [
    {
     "name": "stdout",
     "output_type": "stream",
     "text": [
      "Test Accuracy: 79.29 %\n",
      "Mean Squared Error: 0.0027657257983778115\n"
     ]
    }
   ],
   "source": [
    "X_train, X_test, y_train, y_test = train_test_split(X, y, test_size=0.3, random_state=0)\n",
    "\n",
    "model = LinearRegression()\n",
    "model.fit(X_train, y_train)\n",
    "predicted = model.predict(X_test)\n",
    "predicted\n",
    "print (\"Test Accuracy:\", round(metrics.r2_score(y_test, predicted) * 100, 2), '%')\n",
    "print (\"Mean Squared Error:\", metrics.mean_squared_error(y_test, predicted))"
   ]
  },
  {
   "cell_type": "markdown",
   "metadata": {},
   "source": [
    "Evaluate the model using 10-fold cross-validation"
   ]
  },
  {
   "cell_type": "code",
   "execution_count": 26,
   "metadata": {},
   "outputs": [
    {
     "data": {
      "text/plain": [
       "(array([0.80033059, 0.7976755 , 0.78623793, 0.78128898, 0.78732932,\n",
       "        0.77604425, 0.81277596, 0.78589619, 0.78631669, 0.79532529]),\n",
       " 0.7909220676348424)"
      ]
     },
     "execution_count": 26,
     "metadata": {},
     "output_type": "execute_result"
    }
   ],
   "source": [
    "scores = cross_val_score(LinearRegression(), X, y, cv=10)\n",
    "scores, scores.mean()"
   ]
  },
  {
   "cell_type": "markdown",
   "metadata": {},
   "source": [
    "Accuracy still at 79%"
   ]
  },
  {
   "cell_type": "markdown",
   "metadata": {},
   "source": [
    "PLOT true vs predicted scores and draw the line of fit"
   ]
  },
  {
   "cell_type": "code",
   "execution_count": 27,
   "metadata": {},
   "outputs": [
    {
     "data": {
      "image/png": "[encoded data removed]",
      "text/plain": [
       "<Figure size 432x288 with 1 Axes>"
      ]
     },
     "metadata": {},
     "output_type": "display_data"
    }
   ],
   "source": [
    "plt.scatter(y_test, predicted)\n",
    "plt.plot([0, 1], [0, 1], '--k')\n",
    "plt.xlabel(\"True overall score\")\n",
    "plt.ylabel(\"Predicted overall score\")\n",
    "plt.title(\"True vs Predicted overall score\")\n",
    "plt.show()"
   ]
  },
  {
   "cell_type": "markdown",
   "metadata": {},
   "source": [
    "Draw residual plot. If the data points are scattered randomly around the line, then our model is correct \n",
    "and it's not missing the relationship between any two features."
   ]
  },
  {
   "cell_type": "code",
   "execution_count": 28,
   "metadata": {},
   "outputs": [
    {
     "data": {
      "image/png": "[encoded data removed]",
      "text/plain": [
       "<Figure size 648x432 with 1 Axes>"
      ]
     },
     "metadata": {},
     "output_type": "display_data"
    }
   ],
   "source": [
    "plt.figure(figsize=(9,6))\n",
    "plt.scatter(model.predict(X_train), model.predict(X_train) - y_train, c='b', s=40, alpha=0.5)\n",
    "plt.scatter(model.predict(X_test), model.predict(X_test) - y_test, c='g', s=40, alpha=0.5)\n",
    "plt.hlines(y=0, xmin=0, xmax=1)\n",
    "plt.ylabel('Residuals')\n",
    "plt.title('Residual plot including training(blue) and test(green) data')\n",
    "plt.show()"
   ]
  },
  {
   "cell_type": "markdown",
   "metadata": {},
   "source": [
    "# Random Forests "
   ]
  },
  {
   "cell_type": "markdown",
   "metadata": {},
   "source": [
    "Evaluate the model by splitting into train and test sets."
   ]
  },
  {
   "cell_type": "code",
   "execution_count": 41,
   "metadata": {},
   "outputs": [
    {
     "data": {
      "text/plain": [
       "RandomForestRegressor(bootstrap=True, criterion='mse', max_depth=None,\n",
       "           max_features='auto', max_leaf_nodes=None,\n",
       "           min_impurity_decrease=0.0, min_impurity_split=None,\n",
       "           min_samples_leaf=1, min_samples_split=2,\n",
       "           min_weight_fraction_leaf=0.0, n_estimators=10, n_jobs=-1,\n",
       "           oob_score=False, random_state=None, verbose=0, warm_start=False)"
      ]
     },
     "execution_count": 41,
     "metadata": {},
     "output_type": "execute_result"
    }
   ],
   "source": [
    "X_train, X_test, y_train, y_test = train_test_split(X, y, test_size=0.3, random_state=0)\n",
    "\n",
    "model = RandomForestRegressor(n_jobs=-1)\n",
    "model.fit(X_train, y_train)"
   ]
  },
  {
   "cell_type": "code",
   "execution_count": 42,
   "metadata": {},
   "outputs": [
    {
     "name": "stdout",
     "output_type": "stream",
     "text": [
      "Test Accuracy: 97.2 %\n",
      "Mean Squared Error: 0.00037454413975296846\n"
     ]
    }
   ],
   "source": [
    "predicted = model.predict(X_test)\n",
    "print (\"Test Accuracy:\", round(metrics.r2_score(y_test, predicted) * 100, 2), '%')\n",
    "print (\"Mean Squared Error:\", metrics.mean_squared_error(y_test, predicted))"
   ]
  },
  {
   "cell_type": "markdown",
   "metadata": {},
   "source": [
    "Perform GridSerach and then use the best estimator for scoring on the test set."
   ]
  },
  {
   "cell_type": "code",
   "execution_count": 31,
   "metadata": {},
   "outputs": [
    {
     "name": "stdout",
     "output_type": "stream",
     "text": [
      "Fitting 3 folds for each of 81 candidates, totalling 243 fits\n"
     ]
    },
    {
     "name": "stderr",
     "output_type": "stream",
     "text": [
      "[Parallel(n_jobs=-1)]: Done  42 tasks      | elapsed:  2.8min\n",
      "[Parallel(n_jobs=-1)]: Done 192 tasks      | elapsed:  6.0min\n",
      "[Parallel(n_jobs=-1)]: Done 243 out of 243 | elapsed:  6.5min finished\n"
     ]
    },
    {
     "name": "stdout",
     "output_type": "stream",
     "text": [
      "Best: 0.965675 using {'max_depth': None, 'max_features': 'sqrt', 'min_samples_leaf': 1, 'min_samples_split': 2, 'n_estimators': 10}\n"
     ]
    }
   ],
   "source": [
    "param_test1 = {\n",
    " 'max_features': [\"auto\", \"sqrt\", \"log2\"],   \n",
    " 'max_depth': [None, 5, 10],   \n",
    " 'n_estimators': range(10, 50, 100),\n",
    " 'min_samples_split': [2, 3, 5],\n",
    " 'min_samples_leaf': [1, 2, 3]\n",
    "}\n",
    "\n",
    "grid_search = GridSearchCV(model, param_grid=param_test1, n_jobs=-1, verbose=1)\n",
    "grid_result = grid_search.fit(X_train, y_train)\n",
    "print(\"Best: %f using %s\" % (grid_result.best_score_, grid_result.best_params_))"
   ]
  },
  {
   "cell_type": "code",
   "execution_count": 43,
   "metadata": {},
   "outputs": [
    {
     "name": "stdout",
     "output_type": "stream",
     "text": [
      "Test Accuracy: 97.4 %\n",
      "Mean Squared Error: 0.000347267458627842\n"
     ]
    }
   ],
   "source": [
    "predicted = grid_result.predict(X_test)\n",
    "print (\"Test Accuracy:\", round(metrics.r2_score(y_test, predicted) * 100, 2), '%')\n",
    "print (\"Mean Squared Error:\", metrics.mean_squared_error(y_test, predicted))"
   ]
  },
  {
   "cell_type": "markdown",
   "metadata": {},
   "source": [
    "Accuracy has increased slightly, by 0.2%"
   ]
  },
  {
   "cell_type": "code",
   "execution_count": 44,
   "metadata": {},
   "outputs": [
    {
     "data": {
      "image/png": "[encoded data removed]",
      "text/plain": [
       "<Figure size 432x288 with 1 Axes>"
      ]
     },
     "metadata": {},
     "output_type": "display_data"
    }
   ],
   "source": [
    "plt.scatter(y_test, predicted)\n",
    "plt.plot([0, 1], [0, 1], '--k')\n",
    "plt.xlabel(\"True overall score\")\n",
    "plt.ylabel(\"Predicted overall score\")\n",
    "plt.title(\"True vs Predicted overall score\")\n",
    "plt.show()"
   ]
  },
  {
   "cell_type": "markdown",
   "metadata": {},
   "source": [
    "Random Forest has lower MSE and higher accuracy score than Linear Regression as far as this data-set is concerned."
   ]
  }
 ],
 "metadata": {
  "kernelspec": {
   "display_name": "Python 3",
   "language": "python",
   "name": "python3"
  },
  "language_info": {
   "codemirror_mode": {
    "name": "ipython",
    "version": 3
   },
   "file_extension": ".py",
   "mimetype": "text/x-python",
   "name": "python",
   "nbconvert_exporter": "python",
   "pygments_lexer": "ipython3",
   "version": "3.6.5"
  }
 },
 "nbformat": 4,
 "nbformat_minor": 2
}
